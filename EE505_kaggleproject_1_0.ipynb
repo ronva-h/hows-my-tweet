{
  "nbformat": 4,
  "nbformat_minor": 0,
  "metadata": {
    "colab": {
      "name": "EE505_kaggleproject_1.0.ipynb",
      "provenance": [],
      "collapsed_sections": []
    },
    "kernelspec": {
      "name": "python3",
      "display_name": "Python 3"
    },
    "language_info": {
      "name": "python"
    },
    "accelerator": "GPU"
  },
  "cells": [
    {
      "cell_type": "code",
      "execution_count": 1,
      "metadata": {
        "id": "kulf1dgBh0os"
      },
      "outputs": [],
      "source": [
        "import pandas as pd\n",
        "import numpy as np\n",
        "import re\n",
        "import nltk\n",
        "from nltk.corpus import stopwords\n",
        "import matplotlib.pyplot as plt\n",
        "from keras.preprocessing.text import one_hot\n",
        "from keras.preprocessing.sequence import pad_sequences\n",
        "from keras.models import Sequential\n",
        "from keras.layers.core import Activation, Dropout, Dense\n",
        "from keras.layers import Flatten\n",
        "from keras.layers import GlobalMaxPooling1D\n",
        "from keras.layers.embeddings import Embedding\n",
        "from sklearn.model_selection import train_test_split\n",
        "from keras.preprocessing.text import Tokenizer\n",
        "from tensorflow.keras.layers import LSTM\n",
        "from tensorflow.keras.layers import Conv1D,GlobalMaxPooling1D,Dense"
      ]
    },
    {
      "cell_type": "code",
      "source": [
        "!wget https://github.com/ronva-h/hows-my-tweet/blob/master/twitter_sentiments_data.csv.zip?raw=true -O twitter_sentiments_data.csv.zip\n",
        "!unzip twitter_sentiments_data.csv.zip\n",
        "!rm twitter_sentiments_data.csv.zip"
      ],
      "metadata": {
        "colab": {
          "base_uri": "https://localhost:8080/"
        },
        "id": "NwH7QVD1qPKx",
        "outputId": "5eaa2515-b99c-4196-e8d1-703aa0cde025"
      },
      "execution_count": 2,
      "outputs": [
        {
          "output_type": "stream",
          "name": "stdout",
          "text": [
            "--2021-12-16 05:48:44--  https://github.com/ronva-h/hows-my-tweet/blob/master/twitter_sentiments_data.csv.zip?raw=true\n",
            "Resolving github.com (github.com)... 140.82.121.3\n",
            "Connecting to github.com (github.com)|140.82.121.3|:443... connected.\n",
            "HTTP request sent, awaiting response... 302 Found\n",
            "Location: https://github.com/ronva-h/hows-my-tweet/raw/master/twitter_sentiments_data.csv.zip [following]\n",
            "--2021-12-16 05:48:45--  https://github.com/ronva-h/hows-my-tweet/raw/master/twitter_sentiments_data.csv.zip\n",
            "Reusing existing connection to github.com:443.\n",
            "HTTP request sent, awaiting response... 302 Found\n",
            "Location: https://raw.githubusercontent.com/ronva-h/hows-my-tweet/master/twitter_sentiments_data.csv.zip [following]\n",
            "--2021-12-16 05:48:45--  https://raw.githubusercontent.com/ronva-h/hows-my-tweet/master/twitter_sentiments_data.csv.zip\n",
            "Resolving raw.githubusercontent.com (raw.githubusercontent.com)... 185.199.108.133, 185.199.109.133, 185.199.110.133, ...\n",
            "Connecting to raw.githubusercontent.com (raw.githubusercontent.com)|185.199.108.133|:443... connected.\n",
            "HTTP request sent, awaiting response... 200 OK\n",
            "Length: 68955280 (66M) [application/zip]\n",
            "Saving to: ‘twitter_sentiments_data.csv.zip’\n",
            "\n",
            "twitter_sentiments_ 100%[===================>]  65.76M   186MB/s    in 0.4s    \n",
            "\n",
            "2021-12-16 05:48:48 (186 MB/s) - ‘twitter_sentiments_data.csv.zip’ saved [68955280/68955280]\n",
            "\n",
            "Archive:  twitter_sentiments_data.csv.zip\n",
            "  inflating: twitter_sentiments_data.csv  \n"
          ]
        }
      ]
    },
    {
      "cell_type": "code",
      "source": [
        "!wget https://github.com/ronva-h/hows-my-tweet/blob/master/twitter_sentiments_evaluation.csv.zip?raw=true -O twitter_sentiments_evaluation.csv.zip \n",
        "!unzip twitter_sentiments_evaluation.csv.zip\n",
        "!rm twitter_sentiments_evaluation.csv.zip"
      ],
      "metadata": {
        "colab": {
          "base_uri": "https://localhost:8080/"
        },
        "id": "GfgMm-eWtsWb",
        "outputId": "9e7b19e5-2935-44d8-85ad-b585b45acbbd"
      },
      "execution_count": 3,
      "outputs": [
        {
          "output_type": "stream",
          "name": "stdout",
          "text": [
            "--2021-12-16 05:48:52--  https://github.com/ronva-h/hows-my-tweet/blob/master/twitter_sentiments_evaluation.csv.zip?raw=true\n",
            "Resolving github.com (github.com)... 140.82.121.4\n",
            "Connecting to github.com (github.com)|140.82.121.4|:443... connected.\n",
            "HTTP request sent, awaiting response... 302 Found\n",
            "Location: https://github.com/ronva-h/hows-my-tweet/raw/master/twitter_sentiments_evaluation.csv.zip [following]\n",
            "--2021-12-16 05:48:52--  https://github.com/ronva-h/hows-my-tweet/raw/master/twitter_sentiments_evaluation.csv.zip\n",
            "Reusing existing connection to github.com:443.\n",
            "HTTP request sent, awaiting response... 302 Found\n",
            "Location: https://raw.githubusercontent.com/ronva-h/hows-my-tweet/master/twitter_sentiments_evaluation.csv.zip [following]\n",
            "--2021-12-16 05:48:52--  https://raw.githubusercontent.com/ronva-h/hows-my-tweet/master/twitter_sentiments_evaluation.csv.zip\n",
            "Resolving raw.githubusercontent.com (raw.githubusercontent.com)... 185.199.108.133, 185.199.109.133, 185.199.110.133, ...\n",
            "Connecting to raw.githubusercontent.com (raw.githubusercontent.com)|185.199.108.133|:443... connected.\n",
            "HTTP request sent, awaiting response... 200 OK\n",
            "Length: 15750374 (15M) [application/zip]\n",
            "Saving to: ‘twitter_sentiments_evaluation.csv.zip’\n",
            "\n",
            "twitter_sentiments_ 100%[===================>]  15.02M  --.-KB/s    in 0.09s   \n",
            "\n",
            "2021-12-16 05:48:53 (164 MB/s) - ‘twitter_sentiments_evaluation.csv.zip’ saved [15750374/15750374]\n",
            "\n",
            "Archive:  twitter_sentiments_evaluation.csv.zip\n",
            "  inflating: twitter_sentiments_evaluation.csv  \n"
          ]
        }
      ]
    },
    {
      "cell_type": "code",
      "source": [
        "local_file=\"twitter_sentiments_data.csv\"\n",
        "df = pd.read_csv(local_file)\n",
        "df = pd.DataFrame(df, columns=['target', 'tweet'])\n",
        "df.head()"
      ],
      "metadata": {
        "colab": {
          "base_uri": "https://localhost:8080/",
          "height": 206
        },
        "id": "W-DY_7cUh8zF",
        "outputId": "83b6797c-8eeb-4b12-e8e9-2eb0815a88e6"
      },
      "execution_count": 4,
      "outputs": [
        {
          "output_type": "execute_result",
          "data": {
            "text/html": [
              "<div>\n",
              "<style scoped>\n",
              "    .dataframe tbody tr th:only-of-type {\n",
              "        vertical-align: middle;\n",
              "    }\n",
              "\n",
              "    .dataframe tbody tr th {\n",
              "        vertical-align: top;\n",
              "    }\n",
              "\n",
              "    .dataframe thead th {\n",
              "        text-align: right;\n",
              "    }\n",
              "</style>\n",
              "<table border=\"1\" class=\"dataframe\">\n",
              "  <thead>\n",
              "    <tr style=\"text-align: right;\">\n",
              "      <th></th>\n",
              "      <th>target</th>\n",
              "      <th>tweet</th>\n",
              "    </tr>\n",
              "  </thead>\n",
              "  <tbody>\n",
              "    <tr>\n",
              "      <th>0</th>\n",
              "      <td>0</td>\n",
              "      <td>is upset that he can't update his Facebook by ...</td>\n",
              "    </tr>\n",
              "    <tr>\n",
              "      <th>1</th>\n",
              "      <td>0</td>\n",
              "      <td>@Kenichan I dived many times for the ball. Man...</td>\n",
              "    </tr>\n",
              "    <tr>\n",
              "      <th>2</th>\n",
              "      <td>0</td>\n",
              "      <td>@nationwideclass no, it's not behaving at all....</td>\n",
              "    </tr>\n",
              "    <tr>\n",
              "      <th>3</th>\n",
              "      <td>0</td>\n",
              "      <td>@Kwesidei not the whole crew</td>\n",
              "    </tr>\n",
              "    <tr>\n",
              "      <th>4</th>\n",
              "      <td>0</td>\n",
              "      <td>Need a hug</td>\n",
              "    </tr>\n",
              "  </tbody>\n",
              "</table>\n",
              "</div>"
            ],
            "text/plain": [
              "   target                                              tweet\n",
              "0       0  is upset that he can't update his Facebook by ...\n",
              "1       0  @Kenichan I dived many times for the ball. Man...\n",
              "2       0  @nationwideclass no, it's not behaving at all....\n",
              "3       0                      @Kwesidei not the whole crew \n",
              "4       0                                        Need a hug "
            ]
          },
          "metadata": {},
          "execution_count": 4
        }
      ]
    },
    {
      "cell_type": "code",
      "source": [
        "eval_file=\"twitter_sentiments_evaluation.csv\"\n",
        "df_eval_og = pd.read_csv(eval_file)\n",
        "eval_tweet_index = df_eval_og['tweet_index'].tolist()\n",
        "df_eval = pd.DataFrame(df_eval_og, columns=['target', 'tweet'])\n",
        "df_eval.head()"
      ],
      "metadata": {
        "colab": {
          "base_uri": "https://localhost:8080/",
          "height": 206
        },
        "id": "VOHE0dvowj0L",
        "outputId": "ff66cf58-a4d6-4e42-944f-1d2a9dfec076"
      },
      "execution_count": 63,
      "outputs": [
        {
          "output_type": "execute_result",
          "data": {
            "text/html": [
              "<div>\n",
              "<style scoped>\n",
              "    .dataframe tbody tr th:only-of-type {\n",
              "        vertical-align: middle;\n",
              "    }\n",
              "\n",
              "    .dataframe tbody tr th {\n",
              "        vertical-align: top;\n",
              "    }\n",
              "\n",
              "    .dataframe thead th {\n",
              "        text-align: right;\n",
              "    }\n",
              "</style>\n",
              "<table border=\"1\" class=\"dataframe\">\n",
              "  <thead>\n",
              "    <tr style=\"text-align: right;\">\n",
              "      <th></th>\n",
              "      <th>target</th>\n",
              "      <th>tweet</th>\n",
              "    </tr>\n",
              "  </thead>\n",
              "  <tbody>\n",
              "    <tr>\n",
              "      <th>0</th>\n",
              "      <td>NaN</td>\n",
              "      <td>@switchfoot http://twitpic.com/2y1zl - Awww, t...</td>\n",
              "    </tr>\n",
              "    <tr>\n",
              "      <th>1</th>\n",
              "      <td>NaN</td>\n",
              "      <td>my whole body feels itchy and like its on fire</td>\n",
              "    </tr>\n",
              "    <tr>\n",
              "      <th>2</th>\n",
              "      <td>NaN</td>\n",
              "      <td>Doesnt want to leave  i should just move here...</td>\n",
              "    </tr>\n",
              "    <tr>\n",
              "      <th>3</th>\n",
              "      <td>NaN</td>\n",
              "      <td>May máº¯n sáº½ Ä‘áº¿n bÃªn em mÃ  khÃ´ng cÃ³ anh</td>\n",
              "    </tr>\n",
              "    <tr>\n",
              "      <th>4</th>\n",
              "      <td>NaN</td>\n",
              "      <td>@LOLTrish hey  long time no see! Yes.. Rains a...</td>\n",
              "    </tr>\n",
              "  </tbody>\n",
              "</table>\n",
              "</div>"
            ],
            "text/plain": [
              "   target                                              tweet\n",
              "0     NaN  @switchfoot http://twitpic.com/2y1zl - Awww, t...\n",
              "1     NaN    my whole body feels itchy and like its on fire \n",
              "2     NaN   Doesnt want to leave  i should just move here...\n",
              "3     NaN  May máº¯n sáº½ Ä‘áº¿n bÃªn em mÃ  khÃ´ng cÃ³ anh \n",
              "4     NaN  @LOLTrish hey  long time no see! Yes.. Rains a..."
            ]
          },
          "metadata": {},
          "execution_count": 63
        }
      ]
    },
    {
      "cell_type": "code",
      "source": [
        "TAG_RE = re.compile(r'<[^>]+>')\n",
        "def remove_tags(text):\n",
        "    return TAG_RE.sub('', text)\n",
        "\n",
        "def preprocess_text(sen):\n",
        "    sentence = remove_tags(sen)\n",
        "    sentence = re.sub('[^a-zA-Z]', ' ', sentence)\n",
        "    sentence = re.sub(r\"\\s+[a-zA-Z]\\s+\", ' ', sentence)\n",
        "    sentence = re.sub(r'\\s+', ' ', sentence)\n",
        "    return sentence"
      ],
      "metadata": {
        "id": "3eZQ63rZiAbn"
      },
      "execution_count": 6,
      "outputs": []
    },
    {
      "cell_type": "code",
      "source": [
        "X = []\n",
        "sentences = list(df['tweet'])\n",
        "for sen in sentences:\n",
        "    X.append(preprocess_text(sen))\n",
        "y=np.array(df['target'])\n",
        "\n",
        "X_eval = []\n",
        "sentences_eval = list(df_eval['tweet'])\n",
        "for sen in sentences_eval:\n",
        "    X_eval.append(preprocess_text(sen))\n",
        "y_eval=np.array(df_eval['target'])"
      ],
      "metadata": {
        "id": "S4qEcWipiQlR"
      },
      "execution_count": 34,
      "outputs": []
    },
    {
      "cell_type": "code",
      "source": [
        "X_train, X_test, y_train, y_test = train_test_split(X, y, test_size=0.20, random_state=42)\n",
        "\n",
        "tokenizer = Tokenizer(num_words=5000)\n",
        "tokenizer.fit_on_texts(X_train)\n",
        "X_train = tokenizer.texts_to_sequences(X_train)\n",
        "X_test = tokenizer.texts_to_sequences(X_test)\n",
        "X_eval = tokenizer.texts_to_sequences(X_eval)"
      ],
      "metadata": {
        "id": "rhcw4R6kiSJJ"
      },
      "execution_count": 35,
      "outputs": []
    },
    {
      "cell_type": "code",
      "source": [
        "vocab_size = len(tokenizer.word_index) + 1\n",
        "maxlen = 100\n",
        "X_train = pad_sequences(X_train, padding='post', maxlen=maxlen)\n",
        "X_test = pad_sequences(X_test, padding='post', maxlen=maxlen)\n",
        "X_eval = pad_sequences(X_eval, padding='post', maxlen=maxlen)"
      ],
      "metadata": {
        "id": "atks7nW1imGQ"
      },
      "execution_count": 36,
      "outputs": []
    },
    {
      "cell_type": "code",
      "source": [
        "!wget http://nlp.stanford.edu/data/glove.6B.zip\n",
        "!unzip glove*.zip"
      ],
      "metadata": {
        "colab": {
          "base_uri": "https://localhost:8080/"
        },
        "id": "BOJi7o6jpwAX",
        "outputId": "90a4cc62-1d75-4f51-bc56-fcddc4eb526c"
      },
      "execution_count": 18,
      "outputs": [
        {
          "output_type": "stream",
          "name": "stdout",
          "text": [
            "--2021-12-16 05:59:57--  http://nlp.stanford.edu/data/glove.6B.zip\n",
            "Resolving nlp.stanford.edu (nlp.stanford.edu)... 171.64.67.140\n",
            "Connecting to nlp.stanford.edu (nlp.stanford.edu)|171.64.67.140|:80... connected.\n",
            "HTTP request sent, awaiting response... 302 Found\n",
            "Location: https://nlp.stanford.edu/data/glove.6B.zip [following]\n",
            "--2021-12-16 05:59:58--  https://nlp.stanford.edu/data/glove.6B.zip\n",
            "Connecting to nlp.stanford.edu (nlp.stanford.edu)|171.64.67.140|:443... connected.\n",
            "HTTP request sent, awaiting response... 301 Moved Permanently\n",
            "Location: http://downloads.cs.stanford.edu/nlp/data/glove.6B.zip [following]\n",
            "--2021-12-16 05:59:58--  http://downloads.cs.stanford.edu/nlp/data/glove.6B.zip\n",
            "Resolving downloads.cs.stanford.edu (downloads.cs.stanford.edu)... 171.64.64.22\n",
            "Connecting to downloads.cs.stanford.edu (downloads.cs.stanford.edu)|171.64.64.22|:80... connected.\n",
            "HTTP request sent, awaiting response... 200 OK\n",
            "Length: 862182613 (822M) [application/zip]\n",
            "Saving to: ‘glove.6B.zip’\n",
            "\n",
            "glove.6B.zip        100%[===================>] 822.24M  5.37MB/s    in 2m 43s  \n",
            "\n",
            "2021-12-16 06:02:41 (5.05 MB/s) - ‘glove.6B.zip’ saved [862182613/862182613]\n",
            "\n",
            "Archive:  glove.6B.zip\n",
            "  inflating: glove.6B.50d.txt        \n",
            "  inflating: glove.6B.100d.txt       \n",
            "  inflating: glove.6B.200d.txt       \n",
            "  inflating: glove.6B.300d.txt       \n"
          ]
        }
      ]
    },
    {
      "cell_type": "code",
      "source": [
        "embeddings_dictionary = dict()\n",
        "glove_file = open('glove.6B.100d.txt', encoding=\"utf8\")\n",
        "\n",
        "for line in glove_file:\n",
        "    records = line.split()\n",
        "    word = records[0]\n",
        "    vector_dimensions = np.asarray(records[1:], dtype='float32')\n",
        "    embeddings_dictionary[word] = vector_dimensions\n",
        "glove_file.close()"
      ],
      "metadata": {
        "id": "eMOJl99eiqcY"
      },
      "execution_count": 21,
      "outputs": []
    },
    {
      "cell_type": "code",
      "source": [
        "embedding_matrix = np.zeros((vocab_size, 100))\n",
        "for word, index in tokenizer.word_index.items():\n",
        "    embedding_vector = embeddings_dictionary.get(word)\n",
        "    if embedding_vector is not None:\n",
        "        embedding_matrix[index] = embedding_vector"
      ],
      "metadata": {
        "id": "-BHK46qEi3YW"
      },
      "execution_count": 22,
      "outputs": []
    },
    {
      "cell_type": "code",
      "source": [
        "model = Sequential()\n",
        "embedding_layer = Embedding(vocab_size, 100, weights=[embedding_matrix], input_length=maxlen , trainable=False)\n",
        "model.add(embedding_layer)\n",
        "model.add(Conv1D(128, 5, activation='relu'))\n",
        "model.add(GlobalMaxPooling1D())\n",
        "model.add(Dropout(rate=0.5)) # Avoid overfitting\n",
        "model.add(Dense(1, activation='sigmoid'))\n",
        "model.compile(optimizer='adam', loss='binary_crossentropy', metrics=['acc'])"
      ],
      "metadata": {
        "id": "4tg3VtE3i8g-"
      },
      "execution_count": 23,
      "outputs": []
    },
    {
      "cell_type": "code",
      "source": [
        "history = model.fit(X_train, y_train, batch_size=128, epochs=6, verbose=1, validation_split=0.2)"
      ],
      "metadata": {
        "colab": {
          "base_uri": "https://localhost:8080/"
        },
        "id": "yZkHSzlwjASY",
        "outputId": "1ca9bb53-e72a-410c-a4b2-18d024520f45"
      },
      "execution_count": 24,
      "outputs": [
        {
          "output_type": "stream",
          "name": "stdout",
          "text": [
            "Epoch 1/6\n",
            "6551/6551 [==============================] - 76s 10ms/step - loss: 0.5235 - acc: 0.7410 - val_loss: 0.4844 - val_acc: 0.7719\n",
            "Epoch 2/6\n",
            "6551/6551 [==============================] - 60s 9ms/step - loss: 0.4949 - acc: 0.7633 - val_loss: 0.4691 - val_acc: 0.7810\n",
            "Epoch 3/6\n",
            "6551/6551 [==============================] - 64s 10ms/step - loss: 0.4856 - acc: 0.7691 - val_loss: 0.4623 - val_acc: 0.7855\n",
            "Epoch 4/6\n",
            "6551/6551 [==============================] - 64s 10ms/step - loss: 0.4800 - acc: 0.7734 - val_loss: 0.4593 - val_acc: 0.7866\n",
            "Epoch 5/6\n",
            "6551/6551 [==============================] - 60s 9ms/step - loss: 0.4756 - acc: 0.7766 - val_loss: 0.4573 - val_acc: 0.7877\n",
            "Epoch 6/6\n",
            "6551/6551 [==============================] - 64s 10ms/step - loss: 0.4725 - acc: 0.7783 - val_loss: 0.4561 - val_acc: 0.7904\n"
          ]
        }
      ]
    },
    {
      "cell_type": "code",
      "source": [
        "score = model.evaluate(X_test, y_test, verbose=1)"
      ],
      "metadata": {
        "colab": {
          "base_uri": "https://localhost:8080/"
        },
        "id": "E-N9Oz-ajDKZ",
        "outputId": "369daba1-7f53-4523-f0b6-a324da6939c4"
      },
      "execution_count": 25,
      "outputs": [
        {
          "output_type": "stream",
          "name": "stdout",
          "text": [
            "8189/8189 [==============================] - 28s 3ms/step - loss: 0.4571 - acc: 0.7902\n"
          ]
        }
      ]
    },
    {
      "cell_type": "code",
      "source": [
        "# y = (model.predict(X_test) > 0.5).astype(\"int32\")\n",
        "# y=list(np.concatenate(y))"
      ],
      "metadata": {
        "id": "8Wt7JAJsjGxh"
      },
      "execution_count": null,
      "outputs": []
    },
    {
      "cell_type": "code",
      "source": [
        "from sklearn.metrics import classification_report\n",
        "y_pred = model.predict(X_test)\n",
        "y_pred_bool = (y_pred > 0.5).astype(\"int32\")\n",
        "\n",
        "print(classification_report(y_test, y_pred_bool))"
      ],
      "metadata": {
        "colab": {
          "base_uri": "https://localhost:8080/"
        },
        "id": "6JZdnf3T40ZF",
        "outputId": "ed6e3761-5a67-4260-ce86-d7b58372f2c1"
      },
      "execution_count": 43,
      "outputs": [
        {
          "output_type": "stream",
          "name": "stdout",
          "text": [
            "              precision    recall  f1-score   support\n",
            "\n",
            "           0       0.79      0.80      0.79    130981\n",
            "           1       0.80      0.78      0.79    131041\n",
            "\n",
            "    accuracy                           0.79    262022\n",
            "   macro avg       0.79      0.79      0.79    262022\n",
            "weighted avg       0.79      0.79      0.79    262022\n",
            "\n"
          ]
        }
      ]
    },
    {
      "cell_type": "code",
      "source": [
        "y_pred_eval = model.predict(X_eval)\n",
        "y_pred_eval_bool = (y_pred_eval > 0.5).astype(\"int32\")\n",
        "eval_pred_list = list(np.squeeze(y_pred_eval_bool))"
      ],
      "metadata": {
        "id": "KfCvgaUP8TN6"
      },
      "execution_count": 68,
      "outputs": []
    },
    {
      "cell_type": "code",
      "source": [
        "import csv\n",
        "with open('eval_2.csv', 'w') as f:\n",
        "    writer = csv.writer(f)\n",
        "    writer.writerow([\"tweet_index\", \"target\"])\n",
        "    writer.writerows(zip(eval_tweet_index, eval_pred_list))"
      ],
      "metadata": {
        "id": "PSe7EikTAep9"
      },
      "execution_count": 72,
      "outputs": []
    },
    {
      "cell_type": "code",
      "source": [
        "print(\"Test Score:\", score[0])\n",
        "print(\"Test Accuracy:\", score[1])\n",
        "\n",
        "plt.title('model accuracys')\n",
        "plt.ylabel('accuracy')\n",
        "plt.xlabel('epoch')\n",
        "plt.legend(['train','test'], loc='upper left')\n",
        "plt.show()\n",
        "\n",
        "plt.plot(history.history['loss'])\n",
        "plt.plot(history.history['val_loss'])\n",
        "\n",
        "plt.title('model loss')\n",
        "plt.ylabel('loss')\n",
        "plt.xlabel('epoch')\n",
        "plt.legend(['train','test'], loc='upper left')\n",
        "plt.show()"
      ],
      "metadata": {
        "colab": {
          "base_uri": "https://localhost:8080/",
          "height": 608
        },
        "id": "v7L8TzFjjLwt",
        "outputId": "5f45c893-0c17-4768-dd88-c4138b207865"
      },
      "execution_count": 27,
      "outputs": [
        {
          "output_type": "stream",
          "name": "stdout",
          "text": [
            "Test Score: 0.4571322202682495\n",
            "Test Accuracy: 0.7901512384414673\n"
          ]
        },
        {
          "output_type": "display_data",
          "data": {
            "image/png": "[encoded data removed]",
            "text/plain": [
              "<Figure size 432x288 with 1 Axes>"
            ]
          },
          "metadata": {
            "needs_background": "light"
          }
        },
        {
          "output_type": "display_data",
          "data": {
            "image/png": "[encoded data removed]",
            "text/plain": [
              "<Figure size 432x288 with 1 Axes>"
            ]
          },
          "metadata": {
            "needs_background": "light"
          }
        }
      ]
    },
    {
      "cell_type": "code",
      "source": [
        "# df=pd.DataFrame({'tweet_id':sentence,'target':res})"
      ],
      "metadata": {
        "id": "jxQoLhHHjUIy"
      },
      "execution_count": 29,
      "outputs": []
    }
  ]
}