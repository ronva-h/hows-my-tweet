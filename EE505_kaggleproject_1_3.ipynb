{
  "nbformat": 4,
  "nbformat_minor": 0,
  "metadata": {
    "colab": {
      "name": "EE505_kaggleproject_1.3.ipynb",
      "provenance": [],
      "collapsed_sections": []
    },
    "kernelspec": {
      "name": "python3",
      "display_name": "Python 3"
    },
    "language_info": {
      "name": "python"
    },
    "accelerator": "GPU"
  },
  "cells": [
    {
      "cell_type": "markdown",
      "source": [
        "### Training on whole trainset. No validation"
      ],
      "metadata": {
        "id": "Vrz9rx-lJjkJ"
      }
    },
    {
      "cell_type": "code",
      "execution_count": 1,
      "metadata": {
        "id": "kulf1dgBh0os"
      },
      "outputs": [],
      "source": [
        "import pandas as pd\n",
        "import numpy as np\n",
        "import re\n",
        "import nltk\n",
        "from nltk.corpus import stopwords\n",
        "import matplotlib.pyplot as plt\n",
        "from keras.preprocessing.text import one_hot\n",
        "from keras.preprocessing.sequence import pad_sequences\n",
        "from keras.models import Sequential\n",
        "from keras.layers.core import Activation, Dropout, Dense\n",
        "from keras.layers import Flatten\n",
        "from keras.layers import GlobalMaxPooling1D\n",
        "from keras.layers.embeddings import Embedding\n",
        "from sklearn.model_selection import train_test_split\n",
        "from keras.preprocessing.text import Tokenizer\n",
        "from tensorflow.keras.layers import LSTM\n",
        "from tensorflow.keras.layers import Conv1D,GlobalMaxPooling1D,Dense"
      ]
    },
    {
      "cell_type": "code",
      "source": [
        "!wget https://github.com/ronva-h/hows-my-tweet/blob/master/twitter_sentiments_data.csv.zip?raw=true -O twitter_sentiments_data.csv.zip\n",
        "!unzip twitter_sentiments_data.csv.zip\n",
        "!rm twitter_sentiments_data.csv.zip"
      ],
      "metadata": {
        "colab": {
          "base_uri": "https://localhost:8080/"
        },
        "id": "NwH7QVD1qPKx",
        "outputId": "1bd6ff2e-8402-43ce-a844-c4ee1e458827"
      },
      "execution_count": 2,
      "outputs": [
        {
          "output_type": "stream",
          "name": "stdout",
          "text": [
            "--2021-12-16 22:00:03--  https://github.com/ronva-h/hows-my-tweet/blob/master/twitter_sentiments_data.csv.zip?raw=true\n",
            "Resolving github.com (github.com)... 140.82.112.4\n",
            "Connecting to github.com (github.com)|140.82.112.4|:443... connected.\n",
            "HTTP request sent, awaiting response... 302 Found\n",
            "Location: https://github.com/ronva-h/hows-my-tweet/raw/master/twitter_sentiments_data.csv.zip [following]\n",
            "--2021-12-16 22:00:03--  https://github.com/ronva-h/hows-my-tweet/raw/master/twitter_sentiments_data.csv.zip\n",
            "Reusing existing connection to github.com:443.\n",
            "HTTP request sent, awaiting response... 302 Found\n",
            "Location: https://raw.githubusercontent.com/ronva-h/hows-my-tweet/master/twitter_sentiments_data.csv.zip [following]\n",
            "--2021-12-16 22:00:04--  https://raw.githubusercontent.com/ronva-h/hows-my-tweet/master/twitter_sentiments_data.csv.zip\n",
            "Resolving raw.githubusercontent.com (raw.githubusercontent.com)... 185.199.110.133, 185.199.111.133, 185.199.109.133, ...\n",
            "Connecting to raw.githubusercontent.com (raw.githubusercontent.com)|185.199.110.133|:443... connected.\n",
            "HTTP request sent, awaiting response... 200 OK\n",
            "Length: 68955280 (66M) [application/zip]\n",
            "Saving to: ‘twitter_sentiments_data.csv.zip’\n",
            "\n",
            "twitter_sentiments_ 100%[===================>]  65.76M   121MB/s    in 0.5s    \n",
            "\n",
            "2021-12-16 22:00:05 (121 MB/s) - ‘twitter_sentiments_data.csv.zip’ saved [68955280/68955280]\n",
            "\n",
            "Archive:  twitter_sentiments_data.csv.zip\n",
            "  inflating: twitter_sentiments_data.csv  \n"
          ]
        }
      ]
    },
    {
      "cell_type": "code",
      "source": [
        "!wget https://github.com/ronva-h/hows-my-tweet/blob/master/twitter_sentiments_evaluation.csv.zip?raw=true -O twitter_sentiments_evaluation.csv.zip \n",
        "!unzip twitter_sentiments_evaluation.csv.zip\n",
        "!rm twitter_sentiments_evaluation.csv.zip"
      ],
      "metadata": {
        "colab": {
          "base_uri": "https://localhost:8080/"
        },
        "id": "GfgMm-eWtsWb",
        "outputId": "c8150b8f-b7be-4f77-a593-60f4851c28cb"
      },
      "execution_count": 3,
      "outputs": [
        {
          "output_type": "stream",
          "name": "stdout",
          "text": [
            "--2021-12-16 22:00:09--  https://github.com/ronva-h/hows-my-tweet/blob/master/twitter_sentiments_evaluation.csv.zip?raw=true\n",
            "Resolving github.com (github.com)... 140.82.114.4\n",
            "Connecting to github.com (github.com)|140.82.114.4|:443... connected.\n",
            "HTTP request sent, awaiting response... 302 Found\n",
            "Location: https://github.com/ronva-h/hows-my-tweet/raw/master/twitter_sentiments_evaluation.csv.zip [following]\n",
            "--2021-12-16 22:00:09--  https://github.com/ronva-h/hows-my-tweet/raw/master/twitter_sentiments_evaluation.csv.zip\n",
            "Reusing existing connection to github.com:443.\n",
            "HTTP request sent, awaiting response... 302 Found\n",
            "Location: https://raw.githubusercontent.com/ronva-h/hows-my-tweet/master/twitter_sentiments_evaluation.csv.zip [following]\n",
            "--2021-12-16 22:00:09--  https://raw.githubusercontent.com/ronva-h/hows-my-tweet/master/twitter_sentiments_evaluation.csv.zip\n",
            "Resolving raw.githubusercontent.com (raw.githubusercontent.com)... 185.199.109.133, 185.199.111.133, 185.199.108.133, ...\n",
            "Connecting to raw.githubusercontent.com (raw.githubusercontent.com)|185.199.109.133|:443... connected.\n",
            "HTTP request sent, awaiting response... 200 OK\n",
            "Length: 15750374 (15M) [application/zip]\n",
            "Saving to: ‘twitter_sentiments_evaluation.csv.zip’\n",
            "\n",
            "twitter_sentiments_ 100%[===================>]  15.02M  92.7MB/s    in 0.2s    \n",
            "\n",
            "2021-12-16 22:00:10 (92.7 MB/s) - ‘twitter_sentiments_evaluation.csv.zip’ saved [15750374/15750374]\n",
            "\n",
            "Archive:  twitter_sentiments_evaluation.csv.zip\n",
            "  inflating: twitter_sentiments_evaluation.csv  \n"
          ]
        }
      ]
    },
    {
      "cell_type": "code",
      "source": [
        "local_file=\"twitter_sentiments_data.csv\"\n",
        "df = pd.read_csv(local_file)\n",
        "df = pd.DataFrame(df, columns=['target', 'tweet'])\n",
        "df.head()"
      ],
      "metadata": {
        "colab": {
          "base_uri": "https://localhost:8080/",
          "height": 206
        },
        "id": "W-DY_7cUh8zF",
        "outputId": "6938a735-3cb0-4252-949d-cf4ded39ef77"
      },
      "execution_count": 4,
      "outputs": [
        {
          "output_type": "execute_result",
          "data": {
            "text/html": [
              "\n",
              "  <div id=\"df-19866c9d-3f5f-4895-9365-8cf17b22524e\">\n",
              "    <div class=\"colab-df-container\">\n",
              "      <div>\n",
              "<style scoped>\n",
              "    .dataframe tbody tr th:only-of-type {\n",
              "        vertical-align: middle;\n",
              "    }\n",
              "\n",
              "    .dataframe tbody tr th {\n",
              "        vertical-align: top;\n",
              "    }\n",
              "\n",
              "    .dataframe thead th {\n",
              "        text-align: right;\n",
              "    }\n",
              "</style>\n",
              "<table border=\"1\" class=\"dataframe\">\n",
              "  <thead>\n",
              "    <tr style=\"text-align: right;\">\n",
              "      <th></th>\n",
              "      <th>target</th>\n",
              "      <th>tweet</th>\n",
              "    </tr>\n",
              "  </thead>\n",
              "  <tbody>\n",
              "    <tr>\n",
              "      <th>0</th>\n",
              "      <td>0</td>\n",
              "      <td>is upset that he can't update his Facebook by ...</td>\n",
              "    </tr>\n",
              "    <tr>\n",
              "      <th>1</th>\n",
              "      <td>0</td>\n",
              "      <td>@Kenichan I dived many times for the ball. Man...</td>\n",
              "    </tr>\n",
              "    <tr>\n",
              "      <th>2</th>\n",
              "      <td>0</td>\n",
              "      <td>@nationwideclass no, it's not behaving at all....</td>\n",
              "    </tr>\n",
              "    <tr>\n",
              "      <th>3</th>\n",
              "      <td>0</td>\n",
              "      <td>@Kwesidei not the whole crew</td>\n",
              "    </tr>\n",
              "    <tr>\n",
              "      <th>4</th>\n",
              "      <td>0</td>\n",
              "      <td>Need a hug</td>\n",
              "    </tr>\n",
              "  </tbody>\n",
              "</table>\n",
              "</div>\n",
              "      <button class=\"colab-df-convert\" onclick=\"convertToInteractive('df-19866c9d-3f5f-4895-9365-8cf17b22524e')\"\n",
              "              title=\"Convert this dataframe to an interactive table.\"\n",
              "              style=\"display:none;\">\n",
              "        \n",
              "  <svg xmlns=\"http://www.w3.org/2000/svg\" height=\"24px\"viewBox=\"0 0 24 24\"\n",
              "       width=\"24px\">\n",
              "    <path d=\"M0 0h24v24H0V0z\" fill=\"none\"/>\n",
              "    <path d=\"M18.56 5.44l.94 2.06.94-2.06 2.06-.94-2.06-.94-.94-2.06-.94 2.06-2.06.94zm-11 1L8.5 8.5l.94-2.06 2.06-.94-2.06-.94L8.5 2.5l-.94 2.06-2.06.94zm10 10l.94 2.06.94-2.06 2.06-.94-2.06-.94-.94-2.06-.94 2.06-2.06.94z\"/><path d=\"M17.41 7.96l-1.37-1.37c-.4-.4-.92-.59-1.43-.59-.52 0-1.04.2-1.43.59L10.3 9.45l-7.72 7.72c-.78.78-.78 2.05 0 2.83L4 21.41c.39.39.9.59 1.41.59.51 0 1.02-.2 1.41-.59l7.78-7.78 2.81-2.81c.8-.78.8-2.07 0-2.86zM5.41 20L4 18.59l7.72-7.72 1.47 1.35L5.41 20z\"/>\n",
              "  </svg>\n",
              "      </button>\n",
              "      \n",
              "  <style>\n",
              "    .colab-df-container {\n",
              "      display:flex;\n",
              "      flex-wrap:wrap;\n",
              "      gap: 12px;\n",
              "    }\n",
              "\n",
              "    .colab-df-convert {\n",
              "      background-color: #E8F0FE;\n",
              "      border: none;\n",
              "      border-radius: 50%;\n",
              "      cursor: pointer;\n",
              "      display: none;\n",
              "      fill: #1967D2;\n",
              "      height: 32px;\n",
              "      padding: 0 0 0 0;\n",
              "      width: 32px;\n",
              "    }\n",
              "\n",
              "    .colab-df-convert:hover {\n",
              "      background-color: #E2EBFA;\n",
              "      box-shadow: 0px 1px 2px rgba(60, 64, 67, 0.3), 0px 1px 3px 1px rgba(60, 64, 67, 0.15);\n",
              "      fill: #174EA6;\n",
              "    }\n",
              "\n",
              "    [theme=dark] .colab-df-convert {\n",
              "      background-color: #3B4455;\n",
              "      fill: #D2E3FC;\n",
              "    }\n",
              "\n",
              "    [theme=dark] .colab-df-convert:hover {\n",
              "      background-color: #434B5C;\n",
              "      box-shadow: 0px 1px 3px 1px rgba(0, 0, 0, 0.15);\n",
              "      filter: drop-shadow(0px 1px 2px rgba(0, 0, 0, 0.3));\n",
              "      fill: #FFFFFF;\n",
              "    }\n",
              "  </style>\n",
              "\n",
              "      <script>\n",
              "        const buttonEl =\n",
              "          document.querySelector('#df-19866c9d-3f5f-4895-9365-8cf17b22524e button.colab-df-convert');\n",
              "        buttonEl.style.display =\n",
              "          google.colab.kernel.accessAllowed ? 'block' : 'none';\n",
              "\n",
              "        async function convertToInteractive(key) {\n",
              "          const element = document.querySelector('#df-19866c9d-3f5f-4895-9365-8cf17b22524e');\n",
              "          const dataTable =\n",
              "            await google.colab.kernel.invokeFunction('convertToInteractive',\n",
              "                                                     [key], {});\n",
              "          if (!dataTable) return;\n",
              "\n",
              "          const docLinkHtml = 'Like what you see? Visit the ' +\n",
              "            '<a target=\"_blank\" href=https://colab.research.google.com/notebooks/data_table.ipynb>data table notebook</a>'\n",
              "            + ' to learn more about interactive tables.';\n",
              "          element.innerHTML = '';\n",
              "          dataTable['output_type'] = 'display_data';\n",
              "          await google.colab.output.renderOutput(dataTable, element);\n",
              "          const docLink = document.createElement('div');\n",
              "          docLink.innerHTML = docLinkHtml;\n",
              "          element.appendChild(docLink);\n",
              "        }\n",
              "      </script>\n",
              "    </div>\n",
              "  </div>\n",
              "  "
            ],
            "text/plain": [
              "   target                                              tweet\n",
              "0       0  is upset that he can't update his Facebook by ...\n",
              "1       0  @Kenichan I dived many times for the ball. Man...\n",
              "2       0  @nationwideclass no, it's not behaving at all....\n",
              "3       0                      @Kwesidei not the whole crew \n",
              "4       0                                        Need a hug "
            ]
          },
          "metadata": {},
          "execution_count": 4
        }
      ]
    },
    {
      "cell_type": "code",
      "source": [
        "eval_file=\"twitter_sentiments_evaluation.csv\"\n",
        "df_eval_og = pd.read_csv(eval_file)\n",
        "eval_tweet_index = df_eval_og['tweet_index'].tolist()\n",
        "df_eval = pd.DataFrame(df_eval_og, columns=['target', 'tweet'])\n",
        "df_eval.head()"
      ],
      "metadata": {
        "colab": {
          "base_uri": "https://localhost:8080/",
          "height": 206
        },
        "id": "VOHE0dvowj0L",
        "outputId": "f5aa546f-cb87-49fe-f8cd-10d9aa56f828"
      },
      "execution_count": 5,
      "outputs": [
        {
          "output_type": "execute_result",
          "data": {
            "text/html": [
              "\n",
              "  <div id=\"df-63bc258a-2f8e-44a1-8512-cc2d401b24e1\">\n",
              "    <div class=\"colab-df-container\">\n",
              "      <div>\n",
              "<style scoped>\n",
              "    .dataframe tbody tr th:only-of-type {\n",
              "        vertical-align: middle;\n",
              "    }\n",
              "\n",
              "    .dataframe tbody tr th {\n",
              "        vertical-align: top;\n",
              "    }\n",
              "\n",
              "    .dataframe thead th {\n",
              "        text-align: right;\n",
              "    }\n",
              "</style>\n",
              "<table border=\"1\" class=\"dataframe\">\n",
              "  <thead>\n",
              "    <tr style=\"text-align: right;\">\n",
              "      <th></th>\n",
              "      <th>target</th>\n",
              "      <th>tweet</th>\n",
              "    </tr>\n",
              "  </thead>\n",
              "  <tbody>\n",
              "    <tr>\n",
              "      <th>0</th>\n",
              "      <td>NaN</td>\n",
              "      <td>@switchfoot http://twitpic.com/2y1zl - Awww, t...</td>\n",
              "    </tr>\n",
              "    <tr>\n",
              "      <th>1</th>\n",
              "      <td>NaN</td>\n",
              "      <td>my whole body feels itchy and like its on fire</td>\n",
              "    </tr>\n",
              "    <tr>\n",
              "      <th>2</th>\n",
              "      <td>NaN</td>\n",
              "      <td>Doesnt want to leave  i should just move here...</td>\n",
              "    </tr>\n",
              "    <tr>\n",
              "      <th>3</th>\n",
              "      <td>NaN</td>\n",
              "      <td>May máº¯n sáº½ Ä‘áº¿n bÃªn em mÃ  khÃ´ng cÃ³ anh</td>\n",
              "    </tr>\n",
              "    <tr>\n",
              "      <th>4</th>\n",
              "      <td>NaN</td>\n",
              "      <td>@LOLTrish hey  long time no see! Yes.. Rains a...</td>\n",
              "    </tr>\n",
              "  </tbody>\n",
              "</table>\n",
              "</div>\n",
              "      <button class=\"colab-df-convert\" onclick=\"convertToInteractive('df-63bc258a-2f8e-44a1-8512-cc2d401b24e1')\"\n",
              "              title=\"Convert this dataframe to an interactive table.\"\n",
              "              style=\"display:none;\">\n",
              "        \n",
              "  <svg xmlns=\"http://www.w3.org/2000/svg\" height=\"24px\"viewBox=\"0 0 24 24\"\n",
              "       width=\"24px\">\n",
              "    <path d=\"M0 0h24v24H0V0z\" fill=\"none\"/>\n",
              "    <path d=\"M18.56 5.44l.94 2.06.94-2.06 2.06-.94-2.06-.94-.94-2.06-.94 2.06-2.06.94zm-11 1L8.5 8.5l.94-2.06 2.06-.94-2.06-.94L8.5 2.5l-.94 2.06-2.06.94zm10 10l.94 2.06.94-2.06 2.06-.94-2.06-.94-.94-2.06-.94 2.06-2.06.94z\"/><path d=\"M17.41 7.96l-1.37-1.37c-.4-.4-.92-.59-1.43-.59-.52 0-1.04.2-1.43.59L10.3 9.45l-7.72 7.72c-.78.78-.78 2.05 0 2.83L4 21.41c.39.39.9.59 1.41.59.51 0 1.02-.2 1.41-.59l7.78-7.78 2.81-2.81c.8-.78.8-2.07 0-2.86zM5.41 20L4 18.59l7.72-7.72 1.47 1.35L5.41 20z\"/>\n",
              "  </svg>\n",
              "      </button>\n",
              "      \n",
              "  <style>\n",
              "    .colab-df-container {\n",
              "      display:flex;\n",
              "      flex-wrap:wrap;\n",
              "      gap: 12px;\n",
              "    }\n",
              "\n",
              "    .colab-df-convert {\n",
              "      background-color: #E8F0FE;\n",
              "      border: none;\n",
              "      border-radius: 50%;\n",
              "      cursor: pointer;\n",
              "      display: none;\n",
              "      fill: #1967D2;\n",
              "      height: 32px;\n",
              "      padding: 0 0 0 0;\n",
              "      width: 32px;\n",
              "    }\n",
              "\n",
              "    .colab-df-convert:hover {\n",
              "      background-color: #E2EBFA;\n",
              "      box-shadow: 0px 1px 2px rgba(60, 64, 67, 0.3), 0px 1px 3px 1px rgba(60, 64, 67, 0.15);\n",
              "      fill: #174EA6;\n",
              "    }\n",
              "\n",
              "    [theme=dark] .colab-df-convert {\n",
              "      background-color: #3B4455;\n",
              "      fill: #D2E3FC;\n",
              "    }\n",
              "\n",
              "    [theme=dark] .colab-df-convert:hover {\n",
              "      background-color: #434B5C;\n",
              "      box-shadow: 0px 1px 3px 1px rgba(0, 0, 0, 0.15);\n",
              "      filter: drop-shadow(0px 1px 2px rgba(0, 0, 0, 0.3));\n",
              "      fill: #FFFFFF;\n",
              "    }\n",
              "  </style>\n",
              "\n",
              "      <script>\n",
              "        const buttonEl =\n",
              "          document.querySelector('#df-63bc258a-2f8e-44a1-8512-cc2d401b24e1 button.colab-df-convert');\n",
              "        buttonEl.style.display =\n",
              "          google.colab.kernel.accessAllowed ? 'block' : 'none';\n",
              "\n",
              "        async function convertToInteractive(key) {\n",
              "          const element = document.querySelector('#df-63bc258a-2f8e-44a1-8512-cc2d401b24e1');\n",
              "          const dataTable =\n",
              "            await google.colab.kernel.invokeFunction('convertToInteractive',\n",
              "                                                     [key], {});\n",
              "          if (!dataTable) return;\n",
              "\n",
              "          const docLinkHtml = 'Like what you see? Visit the ' +\n",
              "            '<a target=\"_blank\" href=https://colab.research.google.com/notebooks/data_table.ipynb>data table notebook</a>'\n",
              "            + ' to learn more about interactive tables.';\n",
              "          element.innerHTML = '';\n",
              "          dataTable['output_type'] = 'display_data';\n",
              "          await google.colab.output.renderOutput(dataTable, element);\n",
              "          const docLink = document.createElement('div');\n",
              "          docLink.innerHTML = docLinkHtml;\n",
              "          element.appendChild(docLink);\n",
              "        }\n",
              "      </script>\n",
              "    </div>\n",
              "  </div>\n",
              "  "
            ],
            "text/plain": [
              "   target                                              tweet\n",
              "0     NaN  @switchfoot http://twitpic.com/2y1zl - Awww, t...\n",
              "1     NaN    my whole body feels itchy and like its on fire \n",
              "2     NaN   Doesnt want to leave  i should just move here...\n",
              "3     NaN  May máº¯n sáº½ Ä‘áº¿n bÃªn em mÃ  khÃ´ng cÃ³ anh \n",
              "4     NaN  @LOLTrish hey  long time no see! Yes.. Rains a..."
            ]
          },
          "metadata": {},
          "execution_count": 5
        }
      ]
    },
    {
      "cell_type": "code",
      "source": [
        "TAG_RE = re.compile(r'<[^>]+>')\n",
        "def remove_tags(text):\n",
        "    return TAG_RE.sub('', text)\n",
        "\n",
        "def preprocess_text(sen):\n",
        "    sentence = remove_tags(sen)\n",
        "    sentence = re.sub('[^a-zA-Z]', ' ', sentence)\n",
        "    sentence = re.sub(r\"\\s+[a-zA-Z]\\s+\", ' ', sentence)\n",
        "    sentence = re.sub(r'\\s+', ' ', sentence)\n",
        "    return sentence"
      ],
      "metadata": {
        "id": "3eZQ63rZiAbn"
      },
      "execution_count": 6,
      "outputs": []
    },
    {
      "cell_type": "code",
      "source": [
        "X = []\n",
        "sentences = list(df['tweet'])\n",
        "for sen in sentences:\n",
        "    X.append(preprocess_text(sen))\n",
        "y=np.array(df['target'])\n",
        "\n",
        "X_eval = []\n",
        "sentences_eval = list(df_eval['tweet'])\n",
        "for sen in sentences_eval:\n",
        "    X_eval.append(preprocess_text(sen))\n",
        "y_eval=np.array(df_eval['target'])"
      ],
      "metadata": {
        "id": "S4qEcWipiQlR"
      },
      "execution_count": 7,
      "outputs": []
    },
    {
      "cell_type": "code",
      "source": [
        "X_train, X_test, y_train, y_test = train_test_split(X, y, test_size=0.20, random_state=42)\n",
        "\n",
        "tokenizer = Tokenizer(num_words=5000)\n",
        "tokenizer.fit_on_texts(X_train)\n",
        "X_train = tokenizer.texts_to_sequences(X_train)\n",
        "X_test = tokenizer.texts_to_sequences(X_test)\n",
        "X_eval = tokenizer.texts_to_sequences(X_eval)"
      ],
      "metadata": {
        "id": "rhcw4R6kiSJJ"
      },
      "execution_count": 8,
      "outputs": []
    },
    {
      "cell_type": "code",
      "source": [
        "vocab_size = len(tokenizer.word_index) + 1\n",
        "maxlen = 100\n",
        "X_train = pad_sequences(X_train, padding='post', maxlen=maxlen)\n",
        "X_test = pad_sequences(X_test, padding='post', maxlen=maxlen)\n",
        "X_eval = pad_sequences(X_eval, padding='post', maxlen=maxlen)"
      ],
      "metadata": {
        "id": "atks7nW1imGQ"
      },
      "execution_count": 9,
      "outputs": []
    },
    {
      "cell_type": "code",
      "source": [
        "!wget http://nlp.stanford.edu/data/glove.6B.zip\n",
        "!unzip glove*.zip"
      ],
      "metadata": {
        "colab": {
          "base_uri": "https://localhost:8080/"
        },
        "id": "BOJi7o6jpwAX",
        "outputId": "b7bee7d9-5216-4265-c948-a1d51eb78039"
      },
      "execution_count": 10,
      "outputs": [
        {
          "output_type": "stream",
          "name": "stdout",
          "text": [
            "--2021-12-16 22:01:47--  http://nlp.stanford.edu/data/glove.6B.zip\n",
            "Resolving nlp.stanford.edu (nlp.stanford.edu)... 171.64.67.140\n",
            "Connecting to nlp.stanford.edu (nlp.stanford.edu)|171.64.67.140|:80... connected.\n",
            "HTTP request sent, awaiting response... 302 Found\n",
            "Location: https://nlp.stanford.edu/data/glove.6B.zip [following]\n",
            "--2021-12-16 22:01:47--  https://nlp.stanford.edu/data/glove.6B.zip\n",
            "Connecting to nlp.stanford.edu (nlp.stanford.edu)|171.64.67.140|:443... connected.\n",
            "HTTP request sent, awaiting response... 301 Moved Permanently\n",
            "Location: http://downloads.cs.stanford.edu/nlp/data/glove.6B.zip [following]\n",
            "--2021-12-16 22:01:47--  http://downloads.cs.stanford.edu/nlp/data/glove.6B.zip\n",
            "Resolving downloads.cs.stanford.edu (downloads.cs.stanford.edu)... 171.64.64.22\n",
            "Connecting to downloads.cs.stanford.edu (downloads.cs.stanford.edu)|171.64.64.22|:80... connected.\n",
            "HTTP request sent, awaiting response... 200 OK\n",
            "Length: 862182613 (822M) [application/zip]\n",
            "Saving to: ‘glove.6B.zip’\n",
            "\n",
            "glove.6B.zip        100%[===================>] 822.24M  5.05MB/s    in 2m 40s  \n",
            "\n",
            "2021-12-16 22:04:28 (5.14 MB/s) - ‘glove.6B.zip’ saved [862182613/862182613]\n",
            "\n",
            "Archive:  glove.6B.zip\n",
            "  inflating: glove.6B.50d.txt        \n",
            "  inflating: glove.6B.100d.txt       \n",
            "  inflating: glove.6B.200d.txt       \n",
            "  inflating: glove.6B.300d.txt       \n"
          ]
        }
      ]
    },
    {
      "cell_type": "code",
      "source": [
        "embeddings_dictionary = dict()\n",
        "glove_file = open('glove.6B.300d.txt', encoding=\"utf8\")\n",
        "\n",
        "for line in glove_file:\n",
        "    records = line.split()\n",
        "    word = records[0]\n",
        "    vector_dimensions = np.asarray(records[1:], dtype='float32')\n",
        "    embeddings_dictionary[word] = vector_dimensions\n",
        "glove_file.close()"
      ],
      "metadata": {
        "id": "eMOJl99eiqcY"
      },
      "execution_count": 11,
      "outputs": []
    },
    {
      "cell_type": "code",
      "source": [
        "embedding_matrix = np.zeros((vocab_size, 300))\n",
        "for word, index in tokenizer.word_index.items():\n",
        "    embedding_vector = embeddings_dictionary.get(word)\n",
        "    if embedding_vector is not None:\n",
        "        embedding_matrix[index] = embedding_vector"
      ],
      "metadata": {
        "id": "-BHK46qEi3YW"
      },
      "execution_count": 12,
      "outputs": []
    },
    {
      "cell_type": "code",
      "source": [
        "embedding_matrix.shape"
      ],
      "metadata": {
        "colab": {
          "base_uri": "https://localhost:8080/"
        },
        "id": "1pVWvuKRxk-a",
        "outputId": "c013e070-44ce-48fc-c0c4-2b9d89e0197a"
      },
      "execution_count": 13,
      "outputs": [
        {
          "output_type": "execute_result",
          "data": {
            "text/plain": [
              "(446879, 300)"
            ]
          },
          "metadata": {},
          "execution_count": 13
        }
      ]
    },
    {
      "cell_type": "code",
      "source": [
        "model = Sequential()\n",
        "embedding_layer = Embedding(vocab_size, 300, weights=[embedding_matrix], input_length=maxlen , trainable=False)\n",
        "model.add(embedding_layer)\n",
        "model.add(Conv1D(256, 5, activation='relu'))\n",
        "model.add(GlobalMaxPooling1D())\n",
        "model.add(Dropout(rate=0.5)) # Avoid overfitting\n",
        "model.add(Dense(1, activation='sigmoid'))\n",
        "model.compile(optimizer='adam', loss='binary_crossentropy', metrics=['acc'])"
      ],
      "metadata": {
        "id": "4tg3VtE3i8g-"
      },
      "execution_count": 14,
      "outputs": []
    },
    {
      "cell_type": "code",
      "source": [
        "history = model.fit(X_train, y_train, batch_size=128, epochs=20, verbose=1, validation_split=0.0)"
      ],
      "metadata": {
        "colab": {
          "base_uri": "https://localhost:8080/"
        },
        "id": "yZkHSzlwjASY",
        "outputId": "eff1d2ca-77d6-4219-9690-6e43fe0db14c"
      },
      "execution_count": 15,
      "outputs": [
        {
          "output_type": "stream",
          "name": "stdout",
          "text": [
            "Epoch 1/20\n",
            "8189/8189 [==============================] - 181s 21ms/step - loss: 0.4880 - acc: 0.7669\n",
            "Epoch 2/20\n",
            "8189/8189 [==============================] - 167s 20ms/step - loss: 0.4604 - acc: 0.7851\n",
            "Epoch 3/20\n",
            "8189/8189 [==============================] - 167s 20ms/step - loss: 0.4491 - acc: 0.7924\n",
            "Epoch 4/20\n",
            "8189/8189 [==============================] - 168s 21ms/step - loss: 0.4418 - acc: 0.7968\n",
            "Epoch 5/20\n",
            "8189/8189 [==============================] - 168s 20ms/step - loss: 0.4360 - acc: 0.8002\n",
            "Epoch 6/20\n",
            "8189/8189 [==============================] - 167s 20ms/step - loss: 0.4316 - acc: 0.8031\n",
            "Epoch 7/20\n",
            "8189/8189 [==============================] - 167s 20ms/step - loss: 0.4273 - acc: 0.8055\n",
            "Epoch 8/20\n",
            "8189/8189 [==============================] - 165s 20ms/step - loss: 0.4237 - acc: 0.8074\n",
            "Epoch 9/20\n",
            "8189/8189 [==============================] - 165s 20ms/step - loss: 0.4200 - acc: 0.8095\n",
            "Epoch 10/20\n",
            "8189/8189 [==============================] - 165s 20ms/step - loss: 0.4172 - acc: 0.8113\n",
            "Epoch 11/20\n",
            "8189/8189 [==============================] - 166s 20ms/step - loss: 0.4142 - acc: 0.8127\n",
            "Epoch 12/20\n",
            "8189/8189 [==============================] - 166s 20ms/step - loss: 0.4117 - acc: 0.8141\n",
            "Epoch 13/20\n",
            "8189/8189 [==============================] - 165s 20ms/step - loss: 0.4094 - acc: 0.8155\n",
            "Epoch 14/20\n",
            "8189/8189 [==============================] - 165s 20ms/step - loss: 0.4073 - acc: 0.8164\n",
            "Epoch 15/20\n",
            "8189/8189 [==============================] - 165s 20ms/step - loss: 0.4049 - acc: 0.8181\n",
            "Epoch 16/20\n",
            "8189/8189 [==============================] - 165s 20ms/step - loss: 0.4035 - acc: 0.8189\n",
            "Epoch 17/20\n",
            "8189/8189 [==============================] - 174s 21ms/step - loss: 0.4008 - acc: 0.8199\n",
            "Epoch 18/20\n",
            "8189/8189 [==============================] - 165s 20ms/step - loss: 0.3993 - acc: 0.8209\n",
            "Epoch 19/20\n",
            "8189/8189 [==============================] - 165s 20ms/step - loss: 0.3977 - acc: 0.8220\n",
            "Epoch 20/20\n",
            "8189/8189 [==============================] - 165s 20ms/step - loss: 0.3961 - acc: 0.8223\n"
          ]
        }
      ]
    },
    {
      "cell_type": "code",
      "source": [
        "score = model.evaluate(X_test, y_test, verbose=1)"
      ],
      "metadata": {
        "colab": {
          "base_uri": "https://localhost:8080/"
        },
        "id": "E-N9Oz-ajDKZ",
        "outputId": "5738bf76-527b-4265-ef10-8e58f4186b0d"
      },
      "execution_count": 16,
      "outputs": [
        {
          "output_type": "stream",
          "name": "stdout",
          "text": [
            "8189/8189 [==============================] - 45s 5ms/step - loss: 0.4272 - acc: 0.8075\n"
          ]
        }
      ]
    },
    {
      "cell_type": "code",
      "source": [
        "from sklearn.metrics import classification_report\n",
        "y_pred = model.predict(X_test)"
      ],
      "metadata": {
        "id": "A1R4928s7Be6"
      },
      "execution_count": 19,
      "outputs": []
    },
    {
      "cell_type": "code",
      "source": [
        "num_test_zeros = (y_test == 0).sum()\n",
        "num_pred_zeros = {}\n",
        "for thresh in np.arange(0.3, 1.0, 0.01):\n",
        "    y_pred_bool = (y_pred > thresh).astype(\"int32\")\n",
        "    num_pred_zeros[thresh] = (y_pred_bool == 0).sum()\n",
        "threshs = list(num_pred_zeros.keys())\n",
        "min_thresh_index = np.argmin(np.abs(list(num_pred_zeros.values()) - num_test_zeros))\n",
        "selected_thresh = threshs[min_thresh_index]\n",
        "print(\"Best threshold is :\", selected_thresh)\n",
        "\n",
        "y_pred_bool = (y_pred > selected_thresh).astype(\"int32\")\n",
        "print(classification_report(y_test, y_pred_bool))"
      ],
      "metadata": {
        "id": "xR6XdqqW3GME",
        "colab": {
          "base_uri": "https://localhost:8080/"
        },
        "outputId": "92cbc95a-0291-44eb-e241-6cb7da71363e"
      },
      "execution_count": 21,
      "outputs": [
        {
          "output_type": "stream",
          "name": "stdout",
          "text": [
            "Best threshold is : 0.5400000000000003\n",
            "              precision    recall  f1-score   support\n",
            "\n",
            "           0       0.81      0.81      0.81    130981\n",
            "           1       0.81      0.81      0.81    131041\n",
            "\n",
            "    accuracy                           0.81    262022\n",
            "   macro avg       0.81      0.81      0.81    262022\n",
            "weighted avg       0.81      0.81      0.81    262022\n",
            "\n"
          ]
        }
      ]
    },
    {
      "cell_type": "code",
      "source": [
        "from sklearn.metrics import confusion_matrix, classification_report\n",
        "from matplotlib import pyplot as plt\n",
        "import seaborn as sn\n",
        "\n",
        "cm = confusion_matrix(y_test, y_pred_bool)\n",
        "sn.heatmap(cm, annot=True, fmt='d')\n",
        "plt.xlabel('Predicted')\n",
        "plt.ylabel('Truth')"
      ],
      "metadata": {
        "colab": {
          "base_uri": "https://localhost:8080/",
          "height": 297
        },
        "id": "D4wshBsw85o4",
        "outputId": "7155a98a-c647-471f-f7f9-d4254bcfc562"
      },
      "execution_count": 22,
      "outputs": [
        {
          "output_type": "execute_result",
          "data": {
            "text/plain": [
              "Text(33.0, 0.5, 'Truth')"
            ]
          },
          "metadata": {},
          "execution_count": 22
        },
        {
          "output_type": "display_data",
          "data": {
            "image/png": "[encoded data removed]",
            "text/plain": [
              "<Figure size 432x288 with 2 Axes>"
            ]
          },
          "metadata": {
            "needs_background": "light"
          }
        }
      ]
    },
    {
      "cell_type": "code",
      "source": [
        "y_pred_eval = model.predict(X_eval)\n",
        "y_pred_eval_bool = (y_pred_eval > selected_thresh).astype(\"int32\")\n",
        "eval_pred_list = list(np.squeeze(y_pred_eval_bool))"
      ],
      "metadata": {
        "id": "KfCvgaUP8TN6"
      },
      "execution_count": 23,
      "outputs": []
    },
    {
      "cell_type": "code",
      "source": [
        "import csv\n",
        "with open('eval_1_3.csv', 'w') as f:\n",
        "    writer = csv.writer(f)\n",
        "    writer.writerow([\"tweet_index\", \"target\"])\n",
        "    writer.writerows(zip(eval_tweet_index, eval_pred_list))"
      ],
      "metadata": {
        "id": "PSe7EikTAep9"
      },
      "execution_count": 24,
      "outputs": []
    },
    {
      "cell_type": "code",
      "source": [
        "print(\"Test Score:\", score[0])\n",
        "print(\"Test Accuracy:\", score[1])\n",
        "\n",
        "plt.plot(history.history['loss'])\n",
        "# plt.plot(history.history['val_loss'])\n",
        "\n",
        "plt.title('model loss')\n",
        "plt.ylabel('loss')\n",
        "plt.xlabel('epoch')\n",
        "plt.legend(['train','test'], loc='upper left')\n",
        "plt.show()"
      ],
      "metadata": {
        "colab": {
          "base_uri": "https://localhost:8080/",
          "height": 330
        },
        "id": "v7L8TzFjjLwt",
        "outputId": "b8b84d48-04d0-4fff-8d76-e16994e553eb"
      },
      "execution_count": 25,
      "outputs": [
        {
          "output_type": "stream",
          "name": "stdout",
          "text": [
            "Test Score: 0.42719021439552307\n",
            "Test Accuracy: 0.8075123429298401\n"
          ]
        },
        {
          "output_type": "display_data",
          "data": {
            "image/png": "[encoded data removed]",
            "text/plain": [
              "<Figure size 432x288 with 1 Axes>"
            ]
          },
          "metadata": {
            "needs_background": "light"
          }
        }
      ]
    },
    {
      "cell_type": "markdown",
      "source": [
        "## Training for 10 more epochs"
      ],
      "metadata": {
        "id": "qLtBUVGlrwnR"
      }
    },
    {
      "cell_type": "code",
      "source": [
        "history_2 = model.fit(X_train, y_train, batch_size=128, epochs=10, verbose=1, validation_split=0.0)"
      ],
      "metadata": {
        "colab": {
          "base_uri": "https://localhost:8080/"
        },
        "id": "2ngxzV92kGo4",
        "outputId": "fe8d2b00-1186-4d1a-a838-ce701a7067a4"
      },
      "execution_count": 26,
      "outputs": [
        {
          "output_type": "stream",
          "name": "stdout",
          "text": [
            "Epoch 1/10\n",
            "8189/8189 [==============================] - 166s 20ms/step - loss: 0.3950 - acc: 0.8233\n",
            "Epoch 2/10\n",
            "8189/8189 [==============================] - 165s 20ms/step - loss: 0.3934 - acc: 0.8238\n",
            "Epoch 3/10\n",
            "8189/8189 [==============================] - 164s 20ms/step - loss: 0.3917 - acc: 0.8251\n",
            "Epoch 4/10\n",
            "8189/8189 [==============================] - 164s 20ms/step - loss: 0.3905 - acc: 0.8256\n",
            "Epoch 5/10\n",
            "8189/8189 [==============================] - 165s 20ms/step - loss: 0.3892 - acc: 0.8261\n",
            "Epoch 6/10\n",
            "8189/8189 [==============================] - 165s 20ms/step - loss: 0.3878 - acc: 0.8270\n",
            "Epoch 7/10\n",
            "8189/8189 [==============================] - 165s 20ms/step - loss: 0.3865 - acc: 0.8276\n",
            "Epoch 8/10\n",
            "8189/8189 [==============================] - 165s 20ms/step - loss: 0.3861 - acc: 0.8276\n",
            "Epoch 9/10\n",
            "8189/8189 [==============================] - 165s 20ms/step - loss: 0.3841 - acc: 0.8290\n",
            "Epoch 10/10\n",
            "8189/8189 [==============================] - 165s 20ms/step - loss: 0.3833 - acc: 0.8296\n"
          ]
        }
      ]
    },
    {
      "cell_type": "code",
      "source": [
        "score = model.evaluate(X_test, y_test, verbose=1)"
      ],
      "metadata": {
        "colab": {
          "base_uri": "https://localhost:8080/"
        },
        "id": "Lt69SQ3kqiUO",
        "outputId": "b178b4d2-8fed-4db8-b16d-2e8b82554236"
      },
      "execution_count": 28,
      "outputs": [
        {
          "output_type": "stream",
          "name": "stdout",
          "text": [
            "8189/8189 [==============================] - 53s 7ms/step - loss: 0.4317 - acc: 0.8076\n"
          ]
        }
      ]
    },
    {
      "cell_type": "code",
      "source": [
        "from sklearn.metrics import classification_report\n",
        "y_pred = model.predict(X_test)"
      ],
      "metadata": {
        "id": "pnwpiWrXrY5o"
      },
      "execution_count": 29,
      "outputs": []
    },
    {
      "cell_type": "code",
      "source": [
        "num_test_zeros = (y_test == 0).sum()\n",
        "num_pred_zeros = {}\n",
        "for thresh in np.arange(0.3, 1.0, 0.01):\n",
        "    y_pred_bool = (y_pred > thresh).astype(\"int32\")\n",
        "    num_pred_zeros[thresh] = (y_pred_bool == 0).sum()\n",
        "threshs = list(num_pred_zeros.keys())\n",
        "min_thresh_index = np.argmin(np.abs(list(num_pred_zeros.values()) - num_test_zeros))\n",
        "selected_thresh = threshs[min_thresh_index]\n",
        "print(\"Best threshold is :\", selected_thresh)\n",
        "\n",
        "y_pred_bool = (y_pred > selected_thresh).astype(\"int32\")\n",
        "print(classification_report(y_test, y_pred_bool))"
      ],
      "metadata": {
        "colab": {
          "base_uri": "https://localhost:8080/"
        },
        "outputId": "1b6f5a20-8a1c-4c81-bf42-ac37c6627a99",
        "id": "3VMm02sOrY5q"
      },
      "execution_count": 30,
      "outputs": [
        {
          "output_type": "stream",
          "name": "stdout",
          "text": [
            "Best threshold is : 0.5100000000000002\n",
            "              precision    recall  f1-score   support\n",
            "\n",
            "           0       0.81      0.81      0.81    130981\n",
            "           1       0.81      0.81      0.81    131041\n",
            "\n",
            "    accuracy                           0.81    262022\n",
            "   macro avg       0.81      0.81      0.81    262022\n",
            "weighted avg       0.81      0.81      0.81    262022\n",
            "\n"
          ]
        }
      ]
    },
    {
      "cell_type": "code",
      "source": [
        "from sklearn.metrics import confusion_matrix, classification_report\n",
        "from matplotlib import pyplot as plt\n",
        "import seaborn as sn\n",
        "\n",
        "cm = confusion_matrix(y_test, y_pred_bool)\n",
        "sn.heatmap(cm, annot=True, fmt='d')\n",
        "plt.xlabel('Predicted')\n",
        "plt.ylabel('Truth')"
      ],
      "metadata": {
        "colab": {
          "base_uri": "https://localhost:8080/",
          "height": 297
        },
        "outputId": "95a75f87-8eda-47a3-e54a-a95a0134be69",
        "id": "yrmd9A_jrY5s"
      },
      "execution_count": 31,
      "outputs": [
        {
          "output_type": "execute_result",
          "data": {
            "text/plain": [
              "Text(33.0, 0.5, 'Truth')"
            ]
          },
          "metadata": {},
          "execution_count": 31
        },
        {
          "output_type": "display_data",
          "data": {
            "image/png": "[encoded data removed]",
            "text/plain": [
              "<Figure size 432x288 with 2 Axes>"
            ]
          },
          "metadata": {
            "needs_background": "light"
          }
        }
      ]
    },
    {
      "cell_type": "code",
      "source": [
        "y_pred_eval = model.predict(X_eval)\n",
        "y_pred_eval_bool = (y_pred_eval > selected_thresh).astype(\"int32\")\n",
        "eval_pred_list = list(np.squeeze(y_pred_eval_bool))"
      ],
      "metadata": {
        "id": "LWblAh8OrY5t"
      },
      "execution_count": 32,
      "outputs": []
    },
    {
      "cell_type": "code",
      "source": [
        "import csv\n",
        "with open('eval_1_3_v2.csv', 'w') as f:\n",
        "    writer = csv.writer(f)\n",
        "    writer.writerow([\"tweet_index\", \"target\"])\n",
        "    writer.writerows(zip(eval_tweet_index, eval_pred_list))"
      ],
      "metadata": {
        "id": "nZRG_9JQrY5u"
      },
      "execution_count": 33,
      "outputs": []
    },
    {
      "cell_type": "code",
      "source": [
        "print(\"Test Score:\", score[0])\n",
        "print(\"Test Accuracy:\", score[1])\n",
        "\n",
        "plt.plot(history_2.history['loss'])\n",
        "\n",
        "plt.title('model loss')\n",
        "plt.ylabel('loss')\n",
        "plt.xlabel('epoch')\n",
        "plt.legend(['train','test'], loc='upper left')\n",
        "plt.show()"
      ],
      "metadata": {
        "colab": {
          "base_uri": "https://localhost:8080/",
          "height": 330
        },
        "outputId": "29b26e46-aff5-4644-85f7-58590b602334",
        "id": "e3gOoe4ErLPq"
      },
      "execution_count": 35,
      "outputs": [
        {
          "output_type": "stream",
          "name": "stdout",
          "text": [
            "Test Score: 0.4317189157009125\n",
            "Test Accuracy: 0.8076077699661255\n"
          ]
        },
        {
          "output_type": "display_data",
          "data": {
            "image/png": "[encoded data removed]",
            "text/plain": [
              "<Figure size 432x288 with 1 Axes>"
            ]
          },
          "metadata": {
            "needs_background": "light"
          }
        }
      ]
    }
  ]
}